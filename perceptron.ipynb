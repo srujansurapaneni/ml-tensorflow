{
 "cells": [
  {
   "cell_type": "code",
   "execution_count": 1,
   "id": "5f32b613",
   "metadata": {},
   "outputs": [],
   "source": [
    "import numpy as np\n"
   ]
  },
  {
   "cell_type": "code",
   "execution_count": 2,
   "id": "16dc32f1",
   "metadata": {},
   "outputs": [],
   "source": [
    "features = np.array([\n",
    "    [0,0],\n",
    "    [0,1],\n",
    "    [1,0],\n",
    "    [1,1]\n",
    "])\n",
    "\n",
    "# labels = np.array([0,0,0,1]) # AND GATE\n",
    "labels = np.array([0,1,1,1]) # OR GATE"
   ]
  },
  {
   "cell_type": "code",
   "execution_count": 3,
   "id": "1323e525",
   "metadata": {},
   "outputs": [],
   "source": [
    "w = [0.2,0.3]"
   ]
  },
  {
   "cell_type": "code",
   "execution_count": 4,
   "id": "b2f10681",
   "metadata": {},
   "outputs": [],
   "source": [
    "threshold = 0.5"
   ]
  },
  {
   "cell_type": "code",
   "execution_count": 5,
   "id": "5e68d96f",
   "metadata": {},
   "outputs": [],
   "source": [
    "learning_rate = 0.1\n",
    "epoch = 10"
   ]
  },
  {
   "cell_type": "code",
   "execution_count": 6,
   "id": "449b9e05",
   "metadata": {},
   "outputs": [
    {
     "name": "stdout",
     "output_type": "stream",
     "text": [
      "prediction: 0 actual: 0 error: 0\n",
      "prediction: 0 actual: 1 error: 1\n",
      "prediction: 0 actual: 1 error: 1\n",
      "prediction: 1 actual: 1 error: 0\n",
      "-------------------\n",
      "prediction: 0 actual: 0 error: 0\n",
      "prediction: 0 actual: 1 error: 1\n",
      "prediction: 0 actual: 1 error: 1\n",
      "prediction: 1 actual: 1 error: 0\n",
      "-------------------\n",
      "prediction: 0 actual: 0 error: 0\n",
      "prediction: 1 actual: 1 error: 0\n",
      "prediction: 1 actual: 1 error: 0\n",
      "prediction: 1 actual: 1 error: 0\n",
      "-------------------\n"
     ]
    }
   ],
   "source": [
    "for j in range(0,epoch):\n",
    "    global_delta = 0\n",
    "    for i in range(0,features.shape[0]):\n",
    "        instance = features[i]\n",
    "        actual = labels[i]\n",
    "        \n",
    "        x0 = instance[0]\n",
    "        x1 = instance[1]\n",
    "\n",
    "        sum_unit = x0*w[0] + x1*w[1]\n",
    "\n",
    "        if sum_unit > threshold:\n",
    "            fire = 1\n",
    "        else:\n",
    "            fire = 0\n",
    "\n",
    "        delta = actual - fire\n",
    "        global_delta = global_delta + abs(delta)\n",
    "        \n",
    "        print(\"prediction:\", fire, \"actual:\", actual, \"error:\",delta)\n",
    "\n",
    "        w[0] = w[0]+delta*learning_rate\n",
    "        w[1] = w[1]+delta*learning_rate\n",
    "        \n",
    "    print(\"-------------------\")\n",
    "    \n",
    "    if global_delta == 0:\n",
    "        break\n"
   ]
  },
  {
   "cell_type": "code",
   "execution_count": 7,
   "id": "d8a56b53",
   "metadata": {},
   "outputs": [
    {
     "name": "stdout",
     "output_type": "stream",
     "text": [
      "updated weights: [0.6, 0.7]\n"
     ]
    }
   ],
   "source": [
    "print(\"updated weights:\",w)"
   ]
  },
  {
   "cell_type": "code",
   "execution_count": 8,
   "id": "2bfdf485",
   "metadata": {},
   "outputs": [
    {
     "data": {
      "text/plain": [
       "[(array([-0.05239463]), array([-2.04919443])),\n",
       " (array([1.23772563]), array([-2.90815949])),\n",
       " (array([-39.47663703]), array([23.57864461])),\n",
       " (array([-13.13237331]), array([7.06473087])),\n",
       " (array([-9.11612538]), array([4.57527519])),\n",
       " (array([-7.79056954]), array([3.96940892])),\n",
       " (array([-6.7750263]), array([3.50523881])),\n",
       " (array([-5.97212608]), array([3.13826056])),\n",
       " (array([-5.32141098]), array([2.84084093])),\n",
       " (array([-4.78335796]), array([2.59491529])),\n",
       " (array([-4.33103935]), array([2.38817591])),\n",
       " (array([-4.09146109]), array([2.3928177])),\n",
       " (array([-3.80251597]), array([2.25914697])),\n",
       " (array([-3.54414571]), array([2.13962066])),\n",
       " (array([-3.31174122]), array([2.03210655])),\n",
       " (array([-3.10157551]), array([1.93488045])),\n",
       " (array([-2.91060228]), array([1.84653311])),\n",
       " (array([-2.73630733]), array([1.76590142])),\n",
       " (array([-2.57659722]), array([1.69201691])),\n",
       " (array([-2.4297148]), array([1.6240667])),\n",
       " (array([-2.29417429]), array([1.56136344])),\n",
       " (array([-2.16871083]), array([1.50332199])),\n",
       " (array([-2.05224089]), array([1.4494411])),\n",
       " (array([-1.94383093]), array([1.39928887])),\n",
       " (array([-1.84267226]), array([1.35249122]))]"
      ]
     },
     "execution_count": 8,
     "metadata": {},
     "output_type": "execute_result"
    }
   ],
   "source": [
    "import numpy as np\n",
    "# Setting the random seed, feel free to change it and see different solutions.\n",
    "np.random.seed(42)\n",
    "\n",
    "def stepFunction(t):\n",
    "    if t >= 0:\n",
    "        return 1\n",
    "    return 0\n",
    "\n",
    "def prediction(X, W, b):\n",
    "    return stepFunction((np.matmul(X,W)+b)[0])\n",
    "\n",
    "# TODO: Fill in the code below to implement the perceptron trick.\n",
    "# The function should receive as inputs the data X, the labels y,\n",
    "# the weights W (as an array), and the bias b,\n",
    "# update the weights and bias W, b, according to the perceptron algorithm,\n",
    "# and return W and b.\n",
    "def perceptronStep(X, y, W, b, learn_rate = 0.01): \n",
    "    # Fill in code\n",
    "    for i in range(0,X.shape[0]):\n",
    "        pred = prediction(X[i],W,b)\n",
    "        actual = y[i]\n",
    "        delta = actual - pred\n",
    "        if delta == 1:\n",
    "            W[0] += X[i][0]*learn_rate\n",
    "            W[1] += X[i][1]*learn_rate\n",
    "            b += learn_rate\n",
    "        elif delta == -1:\n",
    "            W[0] -= X[i][0]*learn_rate\n",
    "            W[1] -= X[i][1]*learn_rate\n",
    "            b -= learn_rate\n",
    "    \n",
    "    return W, b\n",
    "    \n",
    "# This function runs the perceptron algorithm repeatedly on the dataset,\n",
    "# and returns a few of the boundary lines obtained in the iterations,\n",
    "# for plotting purposes.\n",
    "# Feel free to play with the learning rate and the num_epochs,\n",
    "# and see your results plotted below.\n",
    "def trainPerceptronAlgorithm(X, y, learn_rate = 0.01, num_epochs = 25):\n",
    "    x_min, x_max = min(X.T[0]), max(X.T[0])\n",
    "    y_min, y_max = min(X.T[1]), max(X.T[1])\n",
    "    W = np.array(np.random.rand(2,1))\n",
    "    b = np.random.rand(1)[0] + x_max\n",
    "    # These are the solution lines that get plotted below.\n",
    "    boundary_lines = []\n",
    "    for i in range(num_epochs):\n",
    "        # In each epoch, we apply the perceptron step.\n",
    "        W, b = perceptronStep(X, y, W, b, learn_rate)\n",
    "        boundary_lines.append((-W[0]/W[1], -b/W[1]))\n",
    "    return boundary_lines\n",
    "data = np.loadtxt('/home/ss-root/Desktop/learning/udacity/ml-tensorflow/perceptron_data.csv', delimiter = ',')\n",
    "X = data[:,:-1]\n",
    "y = data[:,-1]\n",
    "trainPerceptronAlgorithm(X,y,learn_rate = 0.01, num_epochs = 25)\n"
   ]
  },
  {
   "cell_type": "code",
   "execution_count": null,
   "id": "737b5aca",
   "metadata": {},
   "outputs": [],
   "source": []
  }
 ],
 "metadata": {
  "kernelspec": {
   "display_name": "Python 3 (ipykernel)",
   "language": "python",
   "name": "python3"
  },
  "language_info": {
   "codemirror_mode": {
    "name": "ipython",
    "version": 3
   },
   "file_extension": ".py",
   "mimetype": "text/x-python",
   "name": "python",
   "nbconvert_exporter": "python",
   "pygments_lexer": "ipython3",
   "version": "3.9.7"
  }
 },
 "nbformat": 4,
 "nbformat_minor": 5
}
