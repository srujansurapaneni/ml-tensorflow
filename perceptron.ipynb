{
 "cells": [
  {
   "cell_type": "code",
   "execution_count": 1,
   "id": "5f32b613",
   "metadata": {},
   "outputs": [],
   "source": [
    "import numpy as np\n"
   ]
  },
  {
   "cell_type": "code",
   "execution_count": 2,
   "id": "16dc32f1",
   "metadata": {},
   "outputs": [],
   "source": [
    "features = np.array([\n",
    "    [0,0],\n",
    "    [0,1],\n",
    "    [1,0],\n",
    "    [1,1]\n",
    "])\n",
    "\n",
    "# labels = np.array([0,0,0,1]) # AND GATE\n",
    "labels = np.array([0,1,1,1]) # OR GATE"
   ]
  },
  {
   "cell_type": "code",
   "execution_count": 3,
   "id": "1323e525",
   "metadata": {},
   "outputs": [],
   "source": [
    "w = [0.2,0.3]"
   ]
  },
  {
   "cell_type": "code",
   "execution_count": 4,
   "id": "b2f10681",
   "metadata": {},
   "outputs": [],
   "source": [
    "threshold = 0.5"
   ]
  },
  {
   "cell_type": "code",
   "execution_count": 5,
   "id": "5e68d96f",
   "metadata": {},
   "outputs": [],
   "source": [
    "learning_rate = 0.1\n",
    "epoch = 10"
   ]
  },
  {
   "cell_type": "code",
   "execution_count": 6,
   "id": "449b9e05",
   "metadata": {},
   "outputs": [
    {
     "name": "stdout",
     "output_type": "stream",
     "text": [
      "prediction: 0 actual: 0 error: 0\n",
      "prediction: 0 actual: 1 error: 1\n",
      "prediction: 0 actual: 1 error: 1\n",
      "prediction: 1 actual: 1 error: 0\n",
      "-------------------\n",
      "prediction: 0 actual: 0 error: 0\n",
      "prediction: 0 actual: 1 error: 1\n",
      "prediction: 0 actual: 1 error: 1\n",
      "prediction: 1 actual: 1 error: 0\n",
      "-------------------\n",
      "prediction: 0 actual: 0 error: 0\n",
      "prediction: 1 actual: 1 error: 0\n",
      "prediction: 1 actual: 1 error: 0\n",
      "prediction: 1 actual: 1 error: 0\n",
      "-------------------\n"
     ]
    }
   ],
   "source": [
    "for j in range(0,epoch):\n",
    "    global_delta = 0\n",
    "    for i in range(0,features.shape[0]):\n",
    "        instance = features[i]\n",
    "        actual = labels[i]\n",
    "        \n",
    "        x0 = instance[0]\n",
    "        x1 = instance[1]\n",
    "\n",
    "        sum_unit = x0*w[0] + x1*w[1]\n",
    "\n",
    "        if sum_unit > threshold:\n",
    "            fire = 1\n",
    "        else:\n",
    "            fire = 0\n",
    "\n",
    "        delta = actual - fire\n",
    "        global_delta = global_delta + abs(delta)\n",
    "        \n",
    "        print(\"prediction:\", fire, \"actual:\", actual, \"error:\",delta)\n",
    "\n",
    "        w[0] = w[0]+delta*learning_rate\n",
    "        w[1] = w[1]+delta*learning_rate\n",
    "        \n",
    "    print(\"-------------------\")\n",
    "    \n",
    "    if global_delta == 0:\n",
    "        break\n"
   ]
  },
  {
   "cell_type": "code",
   "execution_count": 7,
   "id": "d8a56b53",
   "metadata": {},
   "outputs": [
    {
     "data": {
      "text/plain": [
       "[0.6, 0.7]"
      ]
     },
     "execution_count": 7,
     "metadata": {},
     "output_type": "execute_result"
    }
   ],
   "source": [
    "print(\"updated weights:\",w)"
   ]
  }
 ],
 "metadata": {
  "kernelspec": {
   "display_name": "Python 3 (ipykernel)",
   "language": "python",
   "name": "python3"
  },
  "language_info": {
   "codemirror_mode": {
    "name": "ipython",
    "version": 3
   },
   "file_extension": ".py",
   "mimetype": "text/x-python",
   "name": "python",
   "nbconvert_exporter": "python",
   "pygments_lexer": "ipython3",
   "version": "3.9.7"
  }
 },
 "nbformat": 4,
 "nbformat_minor": 5
}
