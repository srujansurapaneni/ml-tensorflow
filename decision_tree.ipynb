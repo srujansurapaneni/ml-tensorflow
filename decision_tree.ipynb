{
 "cells": [
  {
   "cell_type": "code",
   "execution_count": 35,
   "id": "d1e475f0",
   "metadata": {},
   "outputs": [],
   "source": [
    "import numpy as np\n",
    "import pandas as pd"
   ]
  },
  {
   "cell_type": "code",
   "execution_count": 37,
   "id": "aeb762d1",
   "metadata": {},
   "outputs": [],
   "source": [
    "def get_entropy(p,q,r,total):\n",
    "    entropy = abs(((p/total) * np.log2(p/total)) + ((q/total) * np.log2(q/total)) + ((r/total) * np.log2(r/total)))\n",
    "    return entropy"
   ]
  },
  {
   "cell_type": "code",
   "execution_count": 50,
   "id": "1cf64286",
   "metadata": {},
   "outputs": [],
   "source": [
    "data = ['R','R','R','R','R','R','R','R','B','B','B','Y','Y']"
   ]
  },
  {
   "cell_type": "code",
   "execution_count": 51,
   "id": "70182748",
   "metadata": {},
   "outputs": [],
   "source": [
    "data_np = np.array(data)\n",
    "p = np.count_nonzero(data_np == 'R')\n",
    "q = np.count_nonzero(data_np == 'B')\n",
    "r = np.count_nonzero(data_np == 'Y')\n",
    "total = data_np.shape[0]"
   ]
  },
  {
   "cell_type": "code",
   "execution_count": 52,
   "id": "6ffb6302",
   "metadata": {},
   "outputs": [
    {
     "data": {
      "text/plain": [
       "(8, 3, 2, 13)"
      ]
     },
     "execution_count": 52,
     "metadata": {},
     "output_type": "execute_result"
    }
   ],
   "source": [
    "p,q,r,total"
   ]
  },
  {
   "cell_type": "code",
   "execution_count": 53,
   "id": "a55d6e9f",
   "metadata": {},
   "outputs": [
    {
     "data": {
      "text/plain": [
       "1.3346791410515946"
      ]
     },
     "execution_count": 53,
     "metadata": {},
     "output_type": "execute_result"
    }
   ],
   "source": [
    "get_entropy(p,q,r,total)"
   ]
  },
  {
   "cell_type": "code",
   "execution_count": null,
   "id": "7467f5cd",
   "metadata": {},
   "outputs": [],
   "source": []
  }
 ],
 "metadata": {
  "kernelspec": {
   "display_name": "Python 3 (ipykernel)",
   "language": "python",
   "name": "python3"
  },
  "language_info": {
   "codemirror_mode": {
    "name": "ipython",
    "version": 3
   },
   "file_extension": ".py",
   "mimetype": "text/x-python",
   "name": "python",
   "nbconvert_exporter": "python",
   "pygments_lexer": "ipython3",
   "version": "3.9.7"
  }
 },
 "nbformat": 4,
 "nbformat_minor": 5
}
