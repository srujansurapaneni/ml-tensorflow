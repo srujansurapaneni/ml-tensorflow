{
 "cells": [
  {
   "cell_type": "code",
   "execution_count": null,
   "id": "d0dd8461",
   "metadata": {},
   "outputs": [],
   "source": [
    "# TODO: Add import statements\n"
   ]
  },
  {
   "cell_type": "code",
   "execution_count": null,
   "id": "a4cd7e74",
   "metadata": {},
   "outputs": [],
   "source": [
    "# Assign the data to predictor and outcome variables\n",
    "# TODO: Load the data\n",
    "train_data = None\n",
    "X = None\n",
    "y = None"
   ]
  },
  {
   "cell_type": "code",
   "execution_count": null,
   "id": "aca9a038",
   "metadata": {},
   "outputs": [],
   "source": [
    "# TODO: Create the linear regression model with lasso regularization.\n",
    "lasso_reg = None"
   ]
  },
  {
   "cell_type": "code",
   "execution_count": null,
   "id": "5a843529",
   "metadata": {},
   "outputs": [],
   "source": [
    "# TODO: Fit the model."
   ]
  },
  {
   "cell_type": "code",
   "execution_count": null,
   "id": "c090cf62",
   "metadata": {},
   "outputs": [],
   "source": [
    "# TODO: Retrieve and print out the coefficients from the regression model.\n",
    "reg_coef = None\n",
    "print(reg_coef)"
   ]
  }
 ],
 "metadata": {
  "kernelspec": {
   "display_name": "Python 3 (ipykernel)",
   "language": "python",
   "name": "python3"
  },
  "language_info": {
   "codemirror_mode": {
    "name": "ipython",
    "version": 3
   },
   "file_extension": ".py",
   "mimetype": "text/x-python",
   "name": "python",
   "nbconvert_exporter": "python",
   "pygments_lexer": "ipython3",
   "version": "3.9.7"
  }
 },
 "nbformat": 4,
 "nbformat_minor": 5
}
