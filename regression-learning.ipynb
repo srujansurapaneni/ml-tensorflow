{
 "cells": [
  {
   "cell_type": "markdown",
   "id": "c273cc55",
   "metadata": {},
   "source": []
  },
  {
   "cell_type": "code",
   "execution_count": null,
   "id": "71d609ea",
   "metadata": {},
   "outputs": [],
   "source": []
  },
  {
   "cell_type": "code",
   "execution_count": null,
   "id": "1d13fe06",
   "metadata": {},
   "outputs": [],
   "source": []
  },
  {
   "cell_type": "code",
   "execution_count": null,
   "id": "10c4595b",
   "metadata": {},
   "outputs": [],
   "source": []
  },
  {
   "cell_type": "code",
   "execution_count": null,
   "id": "67b25f92",
   "metadata": {},
   "outputs": [],
   "source": []
  },
  {
   "cell_type": "markdown",
   "id": "68ae4e6a",
   "metadata": {},
   "source": [
    "## Mean Absolute Error "
   ]
  },
  {
   "cell_type": "markdown",
   "id": "f99b051a",
   "metadata": {},
   "source": [
    "$$\n",
    "Error=\\sum\\limits_{i=1}^{m}|y-\\hat{y}|\n",
    "$$"
   ]
  },
  {
   "cell_type": "code",
   "execution_count": 1,
   "id": "38f81e8a",
   "metadata": {},
   "outputs": [
    {
     "name": "stdout",
     "output_type": "stream",
     "text": [
      "total_sum: 19.4\n",
      "total_points: 5\n",
      "mean_abs_err: 3.88\n"
     ]
    }
   ],
   "source": [
    "data_points = [(2,-2),(5,6),(-4,-4),(-7,1),(8,14)]\n",
    "total_sum=0\n",
    "total_sum_squared=0\n",
    "total_points=len(data_points)\n",
    "\n",
    "for point in data_points:\n",
    "    line_y = 1.2*point[0]+2\n",
    "    diff=point[1]-line_y\n",
    "    diff_sqr=diff*diff\n",
    "    if diff<0:\n",
    "        diff = -1*diff\n",
    "    else:\n",
    "        diff = diff\n",
    "    total_sum+=diff\n",
    "    total_sum_squared+=diff_sqr\n",
    "mean_abs_err = total_sum/total_points\n",
    "print('total_sum:',total_sum)\n",
    "print('total_points:',total_points)\n",
    "print('mean_abs_err:',mean_abs_err)\n",
    "    \n"
   ]
  },
  {
   "cell_type": "markdown",
   "id": "b6bb9c33",
   "metadata": {},
   "source": [
    "## Mean Squared Error "
   ]
  },
  {
   "cell_type": "code",
   "execution_count": 2,
   "id": "e4f4c529",
   "metadata": {},
   "outputs": [
    {
     "name": "stdout",
     "output_type": "stream",
     "text": [
      "total_sum_squared: 106.92000000000002\n",
      "total_points: 5\n",
      "mean_sqr_err: 10.692000000000002\n"
     ]
    }
   ],
   "source": [
    "mean_sqr_err = total_sum_squared/(2*total_points)\n",
    "print('total_sum_squared:',total_sum_squared)\n",
    "print('total_points:',total_points)\n",
    "print('mean_sqr_err:',mean_sqr_err)"
   ]
  },
  {
   "cell_type": "markdown",
   "id": "00ca22fe",
   "metadata": {},
   "source": [
    "## Mini Batch Gradient Descent "
   ]
  },
  {
   "cell_type": "code",
   "execution_count": 4,
   "id": "2c7eac76",
   "metadata": {},
   "outputs": [],
   "source": [
    "import numpy as np\n",
    "import pandas as pd\n",
    "%matplotlib inline\n",
    "import matplotlib.pyplot as plt"
   ]
  },
  {
   "cell_type": "code",
   "execution_count": 7,
   "id": "69d2928d",
   "metadata": {
    "scrolled": true
   },
   "outputs": [
    {
     "name": "stdout",
     "output_type": "stream",
     "text": [
      "          x        y\n",
      "0  -2.40724 -0.00156\n",
      "1   2.64837  3.01665\n",
      "2   0.36092  2.31019\n",
      "3   0.67312  2.05950\n",
      "4  -0.45460  1.24736\n",
      "..      ...      ...\n",
      "94 -0.92159  1.21538\n",
      "95  0.76953  2.39377\n",
      "96  0.03283  1.55730\n",
      "97 -1.07619  0.70874\n",
      "98  0.20174  1.76894\n",
      "\n",
      "[99 rows x 2 columns]\n"
     ]
    }
   ],
   "source": [
    "# for d20\n",
    "# df = pd.read_csv('/home/ss-root/Desktop/learning/udacity/ml-tensorflow/mini-gd.csv')\n",
    "# for windows\n",
    "df = pd.read_csv('C:\\\\Users\\\\sruja\\\\Desktop\\\\udacity\\\\ml-tensorflow\\\\mini-gd.csv')\n",
    "df.columns=['x','y']\n",
    "print(df)"
   ]
  },
  {
   "cell_type": "code",
   "execution_count": 8,
   "id": "4d781893",
   "metadata": {},
   "outputs": [
    {
     "data": {
      "text/plain": [
       "<AxesSubplot:xlabel='x', ylabel='y'>"
      ]
     },
     "execution_count": 8,
     "metadata": {},
     "output_type": "execute_result"
    },
    {
     "data": {
      "image/png": "[encoded data removed]",
      "text/plain": [
       "<Figure size 432x288 with 1 Axes>"
      ]
     },
     "metadata": {
      "needs_background": "light"
     },
     "output_type": "display_data"
    }
   ],
   "source": [
    "df.plot(kind='scatter',x='x',y='y')"
   ]
  },
  {
   "cell_type": "code",
   "execution_count": 47,
   "id": "fe1c1297",
   "metadata": {},
   "outputs": [
    {
     "name": "stdout",
     "output_type": "stream",
     "text": [
      "W_new in MSE: [0.08756692]\n",
      "W_exp: [0.08756692]\n",
      "b_exp: 0.21009855000000005\n",
      "b_new in MSE: 0.21009855000000005\n",
      "W_new in MSE: [0.08438333]\n",
      "W_exp: [0.08438333]\n",
      "b_exp: 0.3782916155434828\n",
      "b_new in MSE: 0.3782916155434828\n",
      "W_new in MSE: [0.1456094]\n",
      "W_exp: [0.1456094]\n",
      "b_exp: 0.5317011118804127\n",
      "b_new in MSE: 0.5317011118804127\n",
      "W_new in MSE: [0.17391358]\n",
      "W_exp: [0.17391358]\n",
      "b_exp: 0.6617031983331153\n",
      "b_new in MSE: 0.6617031983331153\n",
      "W_new in MSE: [0.22205642]\n",
      "W_exp: [0.22205642]\n",
      "b_exp: 0.7974949090703743\n",
      "b_new in MSE: 0.7974949090703743\n",
      "W_new in MSE: [0.24607785]\n",
      "W_exp: [0.24607785]\n",
      "b_exp: 0.908089459886988\n",
      "b_new in MSE: 0.908089459886988\n",
      "W_new in MSE: [0.30518412]\n",
      "W_exp: [0.30518412]\n",
      "b_exp: 1.0042217947162735\n",
      "b_new in MSE: 1.0042217947162735\n",
      "W_new in MSE: [0.34242154]\n",
      "W_exp: [0.34242154]\n",
      "b_exp: 1.1013390133705792\n",
      "b_new in MSE: 1.1013390133705792\n",
      "W_new in MSE: [0.35234168]\n",
      "W_exp: [0.35234168]\n",
      "b_exp: 1.1709675354642788\n",
      "b_new in MSE: 1.1709675354642788\n",
      "W_new in MSE: [0.3290308]\n",
      "W_exp: [0.3290308]\n",
      "b_exp: 1.2613665006247352\n",
      "b_new in MSE: 1.2613665006247352\n",
      "W_new in MSE: [0.35608118]\n",
      "W_exp: [0.35608118]\n",
      "b_exp: 1.3310804924896231\n",
      "b_new in MSE: 1.3310804924896231\n",
      "W_new in MSE: [0.39710098]\n",
      "W_exp: [0.39710098]\n",
      "b_exp: 1.3711976828137034\n",
      "b_new in MSE: 1.3711976828137034\n",
      "W_new in MSE: [0.40739113]\n",
      "W_exp: [0.40739113]\n",
      "b_exp: 1.4178140175950733\n",
      "b_new in MSE: 1.4178140175950733\n",
      "W_new in MSE: [0.40338257]\n",
      "W_exp: [0.40338257]\n",
      "b_exp: 1.4863921268915257\n",
      "b_new in MSE: 1.4863921268915257\n",
      "W_new in MSE: [0.3811261]\n",
      "W_exp: [0.3811261]\n",
      "b_exp: 1.5211170253077222\n",
      "b_new in MSE: 1.5211170253077222\n",
      "W_new in MSE: [0.40054762]\n",
      "W_exp: [0.40054762]\n",
      "b_exp: 1.5642381326218382\n",
      "b_new in MSE: 1.5642381326218382\n",
      "W_new in MSE: [0.44847606]\n",
      "W_exp: [0.44847606]\n",
      "b_exp: 1.6194787172878562\n",
      "b_new in MSE: 1.6194787172878562\n",
      "W_new in MSE: [0.42248209]\n",
      "W_exp: [0.42248209]\n",
      "b_exp: 1.6642774609354658\n",
      "b_new in MSE: 1.6642774609354658\n",
      "W_new in MSE: [0.42896879]\n",
      "W_exp: [0.42896879]\n",
      "b_exp: 1.704239829778151\n",
      "b_new in MSE: 1.704239829778151\n",
      "W_new in MSE: [0.41273033]\n",
      "W_exp: [0.41273033]\n",
      "b_exp: 1.733880243153829\n",
      "b_new in MSE: 1.733880243153829\n",
      "W_new in MSE: [0.42693773]\n",
      "W_exp: [0.42693773]\n",
      "b_exp: 1.7593433271483652\n",
      "b_new in MSE: 1.7593433271483652\n",
      "W_new in MSE: [0.44780435]\n",
      "W_exp: [0.44780435]\n",
      "b_exp: 1.797700566859513\n",
      "b_new in MSE: 1.797700566859513\n",
      "W_new in MSE: [0.43695853]\n",
      "W_exp: [0.43695853]\n",
      "b_exp: 1.8259850981580081\n",
      "b_new in MSE: 1.8259850981580081\n",
      "W_new in MSE: [0.4416747]\n",
      "W_exp: [0.4416747]\n",
      "b_exp: 1.8415811067382728\n",
      "b_new in MSE: 1.8415811067382728\n",
      "W_new in MSE: [0.45088072]\n",
      "W_exp: [0.45088072]\n",
      "b_exp: 1.8591335170876584\n",
      "b_new in MSE: 1.8591335170876584\n"
     ]
    },
    {
     "data": {
      "image/png": "[encoded data removed]",
      "text/plain": [
       "<Figure size 432x288 with 1 Axes>"
      ]
     },
     "metadata": {
      "needs_background": "light"
     },
     "output_type": "display_data"
    }
   ],
   "source": [
    "import numpy as np\n",
    "# Setting a random seed, feel free to change it and see different solutions.\n",
    "# np.random.seed(42) --\n",
    "\n",
    "\n",
    "# TODO: Fill in code in the function below to implement a gradient descent\n",
    "# step for linear regression, following a squared error rule. See the docstring\n",
    "# for parameters and returned variables.\n",
    "def MSEStep(X, y, W, b, learn_rate = 0.005):\n",
    "    \"\"\"\n",
    "    This function implements the gradient descent step for squared error as a\n",
    "    performance metric.\n",
    "    \n",
    "    Parameters\n",
    "    X : array of predictor features\n",
    "    y : array of outcome values\n",
    "    W : predictor feature coefficients\n",
    "    b : regression function intercept\n",
    "    learn_rate : learning rate\n",
    "\n",
    "    Returns\n",
    "    W_new : predictor feature coefficients following gradient descent step\n",
    "    b_new : intercept following gradient descent step\n",
    "    \"\"\"\n",
    "    \n",
    "    # Fill in code\n",
    "    y_hat = np.matmul(X, W) + b\n",
    "#     print('X in MSE:',X)\n",
    "#     print('W in MSE:',W)\n",
    "#     print('b in MSE:',b)\n",
    "#     print('y_hat:',y_hat)\n",
    "#     print('y in MSE:',y)\n",
    "    errors = y - y_hat\n",
    "#     print('errors in MSE:',errors)\n",
    "    \n",
    "    W_new = W + learn_rate * np.matmul(errors, X)\n",
    "    print('W_new in MSE:',W_new)\n",
    "    W_exp = W + np.matmul(errors, X) * learn_rate\n",
    "    print('W_exp:',W_exp)\n",
    "    b_exp = b + errors.sum() * learn_rate\n",
    "    print('b_exp:',b_exp)\n",
    "    b_new = b + learn_rate * errors.sum()\n",
    "    print('b_new in MSE:',b_new)\n",
    "    \n",
    "    return W_exp, b_exp\n",
    "\n",
    "\n",
    "# The parts of the script below will be run when you press the \"Test Run\"\n",
    "# button. The gradient descent step will be performed multiple times on\n",
    "# the provided dataset, and the returned list of regression coefficients\n",
    "# will be plotted.\n",
    "def miniBatchGD(X, y, batch_size = 20, learn_rate = 0.005, num_iter = 25):\n",
    "    \"\"\"\n",
    "    This function performs mini-batch gradient descent on a given dataset.\n",
    "\n",
    "    Parameters\n",
    "    X : array of predictor features\n",
    "    y : array of outcome values\n",
    "    batch_size : how many data points will be sampled for each iteration\n",
    "    learn_rate : learning rate\n",
    "    num_iter : number of batches used\n",
    "\n",
    "    Returns\n",
    "    regression_coef : array of slopes and intercepts generated by gradient\n",
    "      descent procedure\n",
    "    \"\"\"\n",
    "    n_points = X.shape[0]\n",
    "    W = np.zeros(X.shape[1]) # coefficients\n",
    "    b = 0 # intercept\n",
    "    \n",
    "    # run iterations\n",
    "    regression_coef = [np.hstack((W,b))]\n",
    "    for _ in range(num_iter):\n",
    "        batch = np.random.choice(range(n_points), batch_size)\n",
    "        X_batch = X[batch,:]\n",
    "        y_batch = y[batch]\n",
    "        W, b = MSEStep(X_batch, y_batch, W, b, learn_rate)\n",
    "        regression_coef.append(np.hstack((W,b)))\n",
    "        \n",
    "    return regression_coef\n",
    "\n",
    "\n",
    "if __name__ == \"__main__\":\n",
    "    # perform gradient descent\n",
    "#     for d20\n",
    "#     data = np.loadtxt('/home/ss-root/Desktop/learning/udacity/ml-tensorflow/mini-gd.csv', delimiter = ',')\n",
    "    data = np.loadtxt('C:\\\\Users\\\\sruja\\\\Desktop\\\\udacity\\\\ml-tensorflow\\\\mini-gd.csv', delimiter = ',')\n",
    "    X = data[:,:-1]\n",
    "    y = data[:,-1]\n",
    "    regression_coef = miniBatchGD(X, y)\n",
    "    \n",
    "    # plot the results\n",
    "    import matplotlib.pyplot as plt\n",
    "    \n",
    "    plt.figure()\n",
    "    X_min = X.min()\n",
    "    X_max = X.max()\n",
    "    counter = len(regression_coef)\n",
    "    for W, b in regression_coef:\n",
    "        counter -= 1\n",
    "        color = [1 - 0.92 ** counter for _ in range(3)]\n",
    "        plt.plot([X_min, X_max],[X_min * W + b, X_max * W + b], color = color)\n",
    "#         plt.plot([-3.02296, 2.64837],[X_min * 0.42444267 + 1.81163196, X_max * 0.42444267 + 1.81163196], color = color)\n",
    "        plt.scatter(X_min, 0.528555875)\n",
    "        plt.scatter(X_max, 2.93571319)\n",
    "    plt.scatter(X, y, zorder = 3)\n",
    "    plt.show()"
   ]
  },
  {
   "cell_type": "code",
   "execution_count": null,
   "id": "62267610",
   "metadata": {},
   "outputs": [],
   "source": []
  },
  {
   "cell_type": "code",
   "execution_count": null,
   "id": "8cc52ec3",
   "metadata": {},
   "outputs": [],
   "source": []
  }
 ],
 "metadata": {
  "kernelspec": {
   "display_name": "Python 3 (ipykernel)",
   "language": "python",
   "name": "python3"
  },
  "language_info": {
   "codemirror_mode": {
    "name": "ipython",
    "version": 3
   },
   "file_extension": ".py",
   "mimetype": "text/x-python",
   "name": "python",
   "nbconvert_exporter": "python",
   "pygments_lexer": "ipython3",
   "version": "3.9.7"
  }
 },
 "nbformat": 4,
 "nbformat_minor": 5
}
