{
 "cells": [
  {
   "cell_type": "markdown",
   "id": "c273cc55",
   "metadata": {},
   "source": []
  },
  {
   "cell_type": "code",
   "execution_count": null,
   "id": "71d609ea",
   "metadata": {},
   "outputs": [],
   "source": []
  },
  {
   "cell_type": "code",
   "execution_count": null,
   "id": "1d13fe06",
   "metadata": {},
   "outputs": [],
   "source": []
  },
  {
   "cell_type": "code",
   "execution_count": null,
   "id": "10c4595b",
   "metadata": {},
   "outputs": [],
   "source": []
  },
  {
   "cell_type": "code",
   "execution_count": null,
   "id": "67b25f92",
   "metadata": {},
   "outputs": [],
   "source": []
  },
  {
   "cell_type": "markdown",
   "id": "68ae4e6a",
   "metadata": {},
   "source": [
    "## Mean Absolute Error "
   ]
  },
  {
   "cell_type": "markdown",
   "id": "f99b051a",
   "metadata": {},
   "source": [
    "$$\n",
    "Error=\\sum\\limits_{i=1}^{m}|y-\\hat{y}|\n",
    "$$"
   ]
  },
  {
   "cell_type": "code",
   "execution_count": 3,
   "id": "38f81e8a",
   "metadata": {},
   "outputs": [
    {
     "name": "stdout",
     "output_type": "stream",
     "text": [
      "total_sum: 19.4\n",
      "total_points: 5\n",
      "mean_abs_err: 3.88\n"
     ]
    }
   ],
   "source": [
    "data_points = [(2,-2),(5,6),(-4,-4),(-7,1),(8,14)]\n",
    "total_sum=0\n",
    "total_sum_squared=0\n",
    "total_points=len(data_points)\n",
    "\n",
    "for point in data_points:\n",
    "    line_y = 1.2*point[0]+2\n",
    "    diff=point[1]-line_y\n",
    "    diff_sqr=diff*diff\n",
    "    if diff<0:\n",
    "        diff = -1*diff\n",
    "    else:\n",
    "        diff = diff\n",
    "    total_sum+=diff\n",
    "    total_sum_squared+=diff_sqr\n",
    "mean_abs_err = total_sum/total_points\n",
    "print('total_sum:',total_sum)\n",
    "print('total_points:',total_points)\n",
    "print('mean_abs_err:',mean_abs_err)\n",
    "    \n"
   ]
  },
  {
   "cell_type": "markdown",
   "id": "b6bb9c33",
   "metadata": {},
   "source": [
    "## Mean Squared Error "
   ]
  },
  {
   "cell_type": "code",
   "execution_count": 4,
   "id": "e4f4c529",
   "metadata": {},
   "outputs": [
    {
     "name": "stdout",
     "output_type": "stream",
     "text": [
      "total_sum_squared: 106.92000000000002\n",
      "total_points: 5\n",
      "mean_sqr_err: 10.692000000000002\n"
     ]
    }
   ],
   "source": [
    "mean_sqr_err = total_sum_squared/(2*total_points)\n",
    "print('total_sum_squared:',total_sum_squared)\n",
    "print('total_points:',total_points)\n",
    "print('mean_sqr_err:',mean_sqr_err)"
   ]
  },
  {
   "cell_type": "markdown",
   "id": "00ca22fe",
   "metadata": {},
   "source": [
    "## Mini Batch Gradient Descent "
   ]
  },
  {
   "cell_type": "code",
   "execution_count": 5,
   "id": "2c7eac76",
   "metadata": {},
   "outputs": [],
   "source": [
    "import numpy"
   ]
  },
  {
   "cell_type": "code",
   "execution_count": null,
   "id": "69d2928d",
   "metadata": {},
   "outputs": [],
   "source": []
  }
 ],
 "metadata": {
  "kernelspec": {
   "display_name": "Python 3 (ipykernel)",
   "language": "python",
   "name": "python3"
  },
  "language_info": {
   "codemirror_mode": {
    "name": "ipython",
    "version": 3
   },
   "file_extension": ".py",
   "mimetype": "text/x-python",
   "name": "python",
   "nbconvert_exporter": "python",
   "pygments_lexer": "ipython3",
   "version": "3.9.7"
  }
 },
 "nbformat": 4,
 "nbformat_minor": 5
}
